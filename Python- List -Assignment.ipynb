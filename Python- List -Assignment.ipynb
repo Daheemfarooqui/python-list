{
 "cells": [
  {
   "cell_type": "markdown",
   "id": "7a44fa1a-76bb-49fe-869d-b89047807ae6",
   "metadata": {},
   "source": [
    " # Python- List Assignment Questions"
   ]
  },
  {
   "cell_type": "markdown",
   "id": "949f03ac-81b4-4b59-a364-eb26702905f4",
   "metadata": {},
   "source": [
    " # Q1. Create an empty list."
   ]
  },
  {
   "cell_type": "markdown",
   "id": "1eec72f5-a0e8-409c-8812-f5e0c3d8009b",
   "metadata": {},
   "source": [
    "### Ans1"
   ]
  },
  {
   "cell_type": "code",
   "execution_count": 51,
   "id": "b2cb80a9-244d-4816-860c-d64b3075c3a5",
   "metadata": {},
   "outputs": [],
   "source": [
    "l = []"
   ]
  },
  {
   "cell_type": "code",
   "execution_count": 52,
   "id": "3b55e660-23ca-4dea-a341-b06d957927d4",
   "metadata": {},
   "outputs": [
    {
     "data": {
      "text/plain": [
       "list"
      ]
     },
     "execution_count": 52,
     "metadata": {},
     "output_type": "execute_result"
    }
   ],
   "source": [
    "type(l)"
   ]
  },
  {
   "cell_type": "markdown",
   "id": "d18334a7-96af-45b3-bac3-ac5763d67321",
   "metadata": {},
   "source": [
    " # Q2. Create a list and add an element to the end of this list."
   ]
  },
  {
   "cell_type": "markdown",
   "id": "c049d8f7-5c2c-457f-88d4-75f2527b1a29",
   "metadata": {},
   "source": [
    "### Ans2"
   ]
  },
  {
   "cell_type": "code",
   "execution_count": 53,
   "id": "572b64e1-cea4-4fe6-a9fc-b0de21a1d324",
   "metadata": {},
   "outputs": [],
   "source": [
    "l1 = [1,2,3,4,5]"
   ]
  },
  {
   "cell_type": "code",
   "execution_count": 54,
   "id": "8bd15b2e-c6d3-4398-bb1d-b471f33d2632",
   "metadata": {},
   "outputs": [
    {
     "data": {
      "text/plain": [
       "[1, 2, 3, 4, 5]"
      ]
     },
     "execution_count": 54,
     "metadata": {},
     "output_type": "execute_result"
    }
   ],
   "source": [
    "l1"
   ]
  },
  {
   "cell_type": "code",
   "execution_count": 55,
   "id": "c044d5f7-06d8-4dc3-b464-13f84cf2c28d",
   "metadata": {},
   "outputs": [],
   "source": [
    "l1.append(2)"
   ]
  },
  {
   "cell_type": "code",
   "execution_count": 56,
   "id": "f0519f31-3660-4397-9d7c-ed4180565d17",
   "metadata": {},
   "outputs": [
    {
     "data": {
      "text/plain": [
       "[1, 2, 3, 4, 5, 2]"
      ]
     },
     "execution_count": 56,
     "metadata": {},
     "output_type": "execute_result"
    }
   ],
   "source": [
    "l1"
   ]
  },
  {
   "cell_type": "markdown",
   "id": "8f010ffa-3f5d-4368-933c-371d0deb3957",
   "metadata": {},
   "source": [
    "# Q3.For the above created list print the last element."
   ]
  },
  {
   "cell_type": "markdown",
   "id": "f28d6989-5333-48fe-9300-614fbe9df59e",
   "metadata": {},
   "source": [
    "### Ans3"
   ]
  },
  {
   "cell_type": "code",
   "execution_count": 57,
   "id": "5e642b4f-daba-4307-963b-68011e6a1eb0",
   "metadata": {},
   "outputs": [
    {
     "data": {
      "text/plain": [
       "[1, 2, 3, 4, 5, 2]"
      ]
     },
     "execution_count": 57,
     "metadata": {},
     "output_type": "execute_result"
    }
   ],
   "source": [
    "l1"
   ]
  },
  {
   "cell_type": "code",
   "execution_count": 58,
   "id": "68d3a8bf-8097-40c3-8946-8c9f8dac0731",
   "metadata": {},
   "outputs": [
    {
     "name": "stdout",
     "output_type": "stream",
     "text": [
      "The last element using reversed() + next() is : 2\n"
     ]
    }
   ],
   "source": [
    "print(\"The last element using reversed() + next() is : \"\n",
    "      + str(next(reversed(l1))))"
   ]
  },
  {
   "cell_type": "markdown",
   "id": "0ea61567-c00f-48af-ae32-f5b3d9ea414e",
   "metadata": {},
   "source": [
    "# Q5. Sort the above created list."
   ]
  },
  {
   "cell_type": "markdown",
   "id": "f9a5036a-42eb-46a4-ac74-0ca1e4ac5226",
   "metadata": {},
   "source": [
    "### Ans5"
   ]
  },
  {
   "cell_type": "code",
   "execution_count": 59,
   "id": "9deb380e-d97d-4044-af86-7022aad8d160",
   "metadata": {},
   "outputs": [
    {
     "data": {
      "text/plain": [
       "[1, 2, 3, 4, 5, 2]"
      ]
     },
     "execution_count": 59,
     "metadata": {},
     "output_type": "execute_result"
    }
   ],
   "source": [
    "l1"
   ]
  },
  {
   "cell_type": "code",
   "execution_count": 61,
   "id": "a097189b-69a9-4805-a850-f95492880993",
   "metadata": {},
   "outputs": [
    {
     "name": "stdout",
     "output_type": "stream",
     "text": [
      "[1, 2, 2, 3, 4, 5]\n"
     ]
    }
   ],
   "source": [
    "l1.sort()\n",
    "print(l1)"
   ]
  },
  {
   "cell_type": "markdown",
   "id": "40a42aa8-0b73-4fe4-95e0-e7bac6f55478",
   "metadata": {},
   "source": [
    "# Q6. Create a list of your top three favorite movies, then print the second movie title."
   ]
  },
  {
   "cell_type": "markdown",
   "id": "3fdbe63a-025d-490d-975c-cc005dd8847a",
   "metadata": {},
   "source": [
    "### Ans6"
   ]
  },
  {
   "cell_type": "code",
   "execution_count": 81,
   "id": "e40506dc-3913-4a4a-9678-973bdfc01887",
   "metadata": {},
   "outputs": [],
   "source": [
    "list=[\"batman begins\",\"the dark night\",\"the batman\"]"
   ]
  },
  {
   "cell_type": "code",
   "execution_count": 82,
   "id": "f06c0ede-74f7-4b19-956a-8b020edba408",
   "metadata": {},
   "outputs": [
    {
     "name": "stdout",
     "output_type": "stream",
     "text": [
      "the dark night\n"
     ]
    }
   ],
   "source": [
    "print(list[1])"
   ]
  },
  {
   "cell_type": "markdown",
   "id": "11f1aaf0-d396-4df3-95ac-51c9c69de409",
   "metadata": {},
   "source": [
    "# Q7. Create a list of your favorite animals, then add a new animal to the list and print the updated list."
   ]
  },
  {
   "cell_type": "markdown",
   "id": "f494a422-984a-42ae-8339-e2d21e896033",
   "metadata": {},
   "source": [
    "### Ans7"
   ]
  },
  {
   "cell_type": "code",
   "execution_count": 110,
   "id": "7a3bee65-d93a-4e51-8398-745c43473577",
   "metadata": {},
   "outputs": [],
   "source": [
    "list1=[\"Tiger\",\"panda\",\"crocrodile\"]"
   ]
  },
  {
   "cell_type": "code",
   "execution_count": 111,
   "id": "356a2e7f-5bb2-4a1c-b18e-4f4af10fa84a",
   "metadata": {},
   "outputs": [
    {
     "data": {
      "text/plain": [
       "['Tiger', 'panda', 'crocrodile']"
      ]
     },
     "execution_count": 111,
     "metadata": {},
     "output_type": "execute_result"
    }
   ],
   "source": [
    "list1"
   ]
  },
  {
   "cell_type": "code",
   "execution_count": 112,
   "id": "30f4c853-d8d2-440b-b956-97db58c3399b",
   "metadata": {},
   "outputs": [],
   "source": [
    "new_animal = [\"spider\"]"
   ]
  },
  {
   "cell_type": "code",
   "execution_count": 113,
   "id": "ce57094f-864b-43b5-8cdf-1fda9bc632bb",
   "metadata": {},
   "outputs": [
    {
     "name": "stdout",
     "output_type": "stream",
     "text": [
      "['Tiger', 'panda', 'crocrodile', 'spider']\n"
     ]
    }
   ],
   "source": [
    "list1.extend(new_animal)\n",
    "print(list1)"
   ]
  },
  {
   "cell_type": "markdown",
   "id": "c8aa7ebd-584e-4144-ac43-7b7d178b91fc",
   "metadata": {},
   "source": [
    "# Q8. Create a list of your favorite cities, then use the index() method to find the position of a specific cityon the list and print it."
   ]
  },
  {
   "cell_type": "markdown",
   "id": "4c9cf50e-27a9-47a2-95e6-a648b03d5a53",
   "metadata": {},
   "source": [
    "### Ans8"
   ]
  },
  {
   "cell_type": "code",
   "execution_count": 114,
   "id": "565e433c-d878-46c7-a2a5-8f6156de5203",
   "metadata": {},
   "outputs": [],
   "source": [
    "list2=[\"delhi\",\"mombai\",\"kolkata\", \"lakhnow\",\"shri nagar\",\"jammu\",\"newyork\",\"london\"]"
   ]
  },
  {
   "cell_type": "code",
   "execution_count": 115,
   "id": "71c74177-b856-457e-9eb5-efca1a876f63",
   "metadata": {},
   "outputs": [
    {
     "data": {
      "text/plain": [
       "['delhi',\n",
       " 'mombai',\n",
       " 'kolkata',\n",
       " 'lakhnow',\n",
       " 'shri nagar',\n",
       " 'jammu',\n",
       " 'newyork',\n",
       " 'london']"
      ]
     },
     "execution_count": 115,
     "metadata": {},
     "output_type": "execute_result"
    }
   ],
   "source": [
    "list2"
   ]
  },
  {
   "cell_type": "code",
   "execution_count": 116,
   "id": "b4260593-7e89-435a-9dd9-9b973e8ba75a",
   "metadata": {},
   "outputs": [
    {
     "name": "stdout",
     "output_type": "stream",
     "text": [
      "4\n"
     ]
    }
   ],
   "source": [
    "print(list2.index(\"shri nagar\"))"
   ]
  },
  {
   "cell_type": "code",
   "execution_count": null,
   "id": "92612f7a-b7ca-4925-b20c-9971c59ecbb6",
   "metadata": {},
   "outputs": [],
   "source": []
  }
 ],
 "metadata": {
  "kernelspec": {
   "display_name": "Python 3 (ipykernel)",
   "language": "python",
   "name": "python3"
  },
  "language_info": {
   "codemirror_mode": {
    "name": "ipython",
    "version": 3
   },
   "file_extension": ".py",
   "mimetype": "text/x-python",
   "name": "python",
   "nbconvert_exporter": "python",
   "pygments_lexer": "ipython3",
   "version": "3.10.8"
  }
 },
 "nbformat": 4,
 "nbformat_minor": 5
}
